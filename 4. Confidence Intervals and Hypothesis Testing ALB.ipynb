{
 "cells": [
  {
   "cell_type": "code",
   "execution_count": 1,
   "id": "adult-pendant",
   "metadata": {},
   "outputs": [],
   "source": [
    "import math\n",
    "import numpy as np\n",
    "import scipy.stats as st\n",
    "import matplotlib.pyplot as plt"
   ]
  },
  {
   "cell_type": "code",
   "execution_count": 2,
   "id": "quality-preliminary",
   "metadata": {},
   "outputs": [],
   "source": [
    "# Disa funksione ndihmëse\n",
    "def plot_colored_distribution(mu, sigma, color_start=None, color_end=None, two_tailed=True):\n",
    "    x = np.linspace(mu - 3*sigma, mu + 3*sigma, 1000)\n",
    "    fig = plt.figure()\n",
    "    ax = fig.add_subplot()\n",
    "    if color_start:\n",
    "        if not color_end:\n",
    "            color_end = mu+3*sigma if color_start>=mu else mu-3*sigma\n",
    "        ptx = np.linspace(color_start, color_end, 100)\n",
    "        pty = st.norm.pdf(ptx,mu,sigma)\n",
    "        plt.fill_between(ptx, pty, color='red', alpha=1)\n",
    "        \n",
    "    if two_tailed:\n",
    "        ptx = np.linspace(2*mu - color_start, 2*mu - color_end, 100)\n",
    "        pty = st.norm.pdf(ptx,mu,sigma)\n",
    "        plt.fill_between(ptx, pty, color='red', alpha=1)\n",
    "    plt.xlim(mu - 3*sigma, mu + 3*sigma)\n",
    "    plt.ylim(0, st.norm.pdf(x, mu, sigma).max()+(st.norm.pdf(x, mu, sigma).max())/100)\n",
    "    ax.plot(x, st.norm.pdf(x, mu, sigma))\n",
    "    plt.show()\n"
   ]
  },
  {
   "cell_type": "markdown",
   "id": "welcome-spiritual",
   "metadata": {},
   "source": [
    "# Logjika pas testimit të hipotezave"
   ]
  },
  {
   "cell_type": "markdown",
   "id": "commercial-answer",
   "metadata": {},
   "source": [
    "Ta zëmë që një kompani e qumështit ka një makinë që duhet të mbush paketimet me 800 mL qumësht. Por, menaxheri i kompanisë po dyshon se makina është prishur dhe po i mbush paketimet me tjetër sasi qumështi. Detyra juaj si analist i të dhënave është të vërtetoni se nëse makina po mbush saktë apo jo.\n",
    "\n",
    "Që t'i përgjigjemi me statistikë këtij problemi, së pari duhet të ndrërtojmë hipotezat statistikore. Hipoteza e menaxherit është që makina nuk po mbush vlerën prej 800 mL. Prandaj, hipotezat tona statistikore duhet të jenë:\n",
    "\n",
    "$H_{0}: \\mu=800mL$\n",
    "<br>\n",
    "$H_{A}: \\mu\\neq800mL$"
   ]
  },
  {
   "cell_type": "markdown",
   "id": "entitled-mozambique",
   "metadata": {},
   "source": [
    "Tutje, ju merrni një mostër prej 40 paketimeve dhe ju del se mesatarja e mbushjes së paketimit është 810mL. Ndërsa, ju e dini se devijimi standard i makinës (e dini këtë sigurt pasi që kjo matet vazhdimisht) është 18mL. Pra:\n",
    "\n",
    "$n = 40$\n",
    "<br>\n",
    "$\\bar{x}=810mL$\n",
    "<br>\n",
    "$\\sigma=18mL$"
   ]
  },
  {
   "cell_type": "markdown",
   "id": "central-handy",
   "metadata": {},
   "source": [
    "Pyetja që ju duhet t'i shtroni vetës është: Nëse makina me të vërtetë mbush 800mL, sa janë gjasat që në një mostër prej 40 rasteve të marrim mesatare prej 810mL?\n",
    "\n",
    "Pra, vlera që neve na duhet është: $ P(\\bar{x}=810 | \\mu=800) $. Tërë logjika e testimit të hipotezave është të gjendet kjo vlerë (vlera që mostra të na jep vlerën që ka dhënë duke supozuar që hipoteza nulle është e vërtetë)."
   ]
  },
  {
   "cell_type": "code",
   "execution_count": 3,
   "id": "pregnant-offer",
   "metadata": {},
   "outputs": [
    {
     "data": {
      "image/png": "[encoded data removed]",
      "text/plain": [
       "<Figure size 432x288 with 1 Axes>"
      ]
     },
     "metadata": {
      "needs_background": "light"
     },
     "output_type": "display_data"
    }
   ],
   "source": [
    "plot_colored_distribution(800, 60/math.sqrt(40), 810) # vleren 60 nuk ka ndonje kuptim :)"
   ]
  },
  {
   "cell_type": "markdown",
   "id": "accurate-soundtrack",
   "metadata": {},
   "source": [
    "Për llogaritjen e kësaj gjase na duhet ta dijmë devijimin standard të shpërndarjes së mostrës së saj. Ky devijim standard në statstikë quhet gabim standard (standard error) dhe për testim tëhipotezave me mesatare të popullacionit kur dihet devijimi standard i tij llogaritet me këtë formulë:\n",
    "\n",
    "$SE = \\frac{\\sigma}{\\sqrt{n}}$\n",
    "\n",
    "Për rastin tonë, gabimi standard andaj duhet të jetë:"
   ]
  },
  {
   "cell_type": "code",
   "execution_count": 4,
   "id": "alien-mills",
   "metadata": {},
   "outputs": [
    {
     "name": "stdout",
     "output_type": "stream",
     "text": [
      "Gabimi standard është:  2.8460\n"
     ]
    }
   ],
   "source": [
    "madhesia_mostres = 40\n",
    "mesatarja = 810\n",
    "devijimi_standard = 18\n",
    "\n",
    "gabimi_standard = devijimi_standard/math.sqrt(madhesia_mostres)\n",
    "print(f\"Gabimi standard është: {gabimi_standard: .4f}\")"
   ]
  },
  {
   "cell_type": "markdown",
   "id": "active-warrant",
   "metadata": {},
   "source": [
    "Tani na duhet të gjejmë se sa gabime standarde jemi prej mesatarës së hipotezës nulle. Për ta bërë këtë bëjmë kalkulimin si në vijim: $\\frac{\\bar{x} - \\mu}{SE}$"
   ]
  },
  {
   "cell_type": "code",
   "execution_count": 5,
   "id": "royal-michael",
   "metadata": {},
   "outputs": [
    {
     "name": "stdout",
     "output_type": "stream",
     "text": [
      "810 është  3.51 gabime standarde nga mesatarja nën hipotezën 0 (800mL).\n"
     ]
    }
   ],
   "source": [
    "largesia_nga_mesatarja = (mesatarja-800)/gabimi_standard\n",
    "print(f\"810 është {largesia_nga_mesatarja: .2f} gabime standarde nga mesatarja nën hipotezën 0 (800mL).\")"
   ]
  },
  {
   "cell_type": "markdown",
   "id": "invalid-wagon",
   "metadata": {},
   "source": [
    "Tani, e gjitha çka ka mbetur të bëjmë është të gjejmë gjasat që një mostër të jetë 3.51 ose më shumë devijime standarde nga 800mL. Këtë më së lehti e gjejmë me anë të Python si në vijim:"
   ]
  },
  {
   "cell_type": "code",
   "execution_count": 6,
   "id": "internal-delhi",
   "metadata": {},
   "outputs": [
    {
     "name": "stdout",
     "output_type": "stream",
     "text": [
      "Gjasat që të jemi 3.51 devijime standarde nga mesatarja janë:  0.0004420083\n"
     ]
    }
   ],
   "source": [
    "p_value = 2 * (1 - st.norm.cdf(largesia_nga_mesatarja)) # *2 sepse ne jemi duke testuar për dy anët e shpërndarjes\n",
    "print(f\"Gjasat që të jemi 3.51 devijime standarde nga mesatarja janë: {p_value: .10f}\")"
   ]
  },
  {
   "cell_type": "markdown",
   "id": "engaging-steering",
   "metadata": {},
   "source": [
    "# Testi me një anë dhe me dy anë"
   ]
  },
  {
   "cell_type": "markdown",
   "id": "special-indie",
   "metadata": {},
   "source": [
    "Në shembullin paraprak na u shtrua hipoteza që mesatarja e popullacionit të jetë e ndryshme nga 800. Çka nëse pyetja e menaxherit të kompanisë do të ishte se a mbush makina më shumë sesa që duhet?\n",
    "\n",
    "Atëherë, ne do të duhej të testonim vetëm për vlera më të mëdha sesa 800. Hipotezat tona do të ishin:\n",
    "\n",
    "$H_{0}: \\mu <= 800$\n",
    "<br>\n",
    "$H_{A}: \\mu > 800$\n",
    "\n",
    "Testimi tani do të bëhej vetem në për kahun në të djathtë të mesatarës:"
   ]
  },
  {
   "cell_type": "code",
   "execution_count": 7,
   "id": "filled-python",
   "metadata": {},
   "outputs": [
    {
     "data": {
      "image/png": "[encoded data removed]",
      "text/plain": [
       "<Figure size 432x288 with 1 Axes>"
      ]
     },
     "metadata": {
      "needs_background": "light"
     },
     "output_type": "display_data"
    }
   ],
   "source": [
    "plot_colored_distribution(800, 60/math.sqrt(40), 810, two_tailed=False)"
   ]
  },
  {
   "cell_type": "markdown",
   "id": "selected-mortgage",
   "metadata": {},
   "source": [
    "Ndërsa gjasat do të llogariteshin:"
   ]
  },
  {
   "cell_type": "code",
   "execution_count": 8,
   "id": "leading-campbell",
   "metadata": {},
   "outputs": [
    {
     "name": "stdout",
     "output_type": "stream",
     "text": [
      "Gjasat që të jemi 3.51 devijime standarde më e madhe sesa mesatarja janë:  0.0002210042\n"
     ]
    }
   ],
   "source": [
    "p_value =  (1 - st.norm.cdf(largesia_nga_mesatarja)) \n",
    "print(f\"Gjasat që të jemi 3.51 devijime standarde më e madhe sesa mesatarja janë: {p_value: .10f}\")"
   ]
  },
  {
   "cell_type": "markdown",
   "id": "global-maple",
   "metadata": {},
   "source": [
    "# Niveli i signifikancës dhe nxjerrja e konkluzioneve"
   ]
  },
  {
   "cell_type": "markdown",
   "id": "ignored-providence",
   "metadata": {},
   "source": [
    "E pamë që gjasat që të marrim nga mostra mesatare prej 810mL nëse mesatarja e popullacionit është 800mL janë 0.044%. __Kjo gjasë në statistikë quhet vlera p!__\n",
    "\n",
    "Logjikisht, mund të shihet që gjasat që të marrim mesatare të tillë janë të vogla. Poashtu, meqë mostra ka shpërndarje propabilistike, vlera p kurrë nuk mund të jetë 0. Prandaj, në statistikë mundohemi të definojmë se çka është gabim i pranueshëm e çka jo.\n",
    "\n",
    "Zakonisht në statistikë lejojmë një nivel të gabimit. __Ky nivel që e lejojmë quhet nivel i signifikancës.__ Zakonisht në statistikë niveli i signifikancës vendoset në 5% (0.05), por ka raste kur kërkohet 1% (0.01) apo lejohet edhe 10% (0.1).\n",
    "\n",
    "*Në rastin tonë, vlera p është 0.00044 (më e vogël sesa 0.05), prandaj mund të themi se me nivel të signifikancës prej 0.05 mund të refuzojmë hipotezën nulle që mesatarja e popullacionit është 800mL.*"
   ]
  },
  {
   "cell_type": "markdown",
   "id": "sweet-resolution",
   "metadata": {},
   "source": [
    "# Kur devijimi standard i popullacionit nuk dihet"
   ]
  },
  {
   "cell_type": "markdown",
   "id": "proud-preservation",
   "metadata": {},
   "source": [
    "Në shembullin e mëhershëm supozuam që e dijmë devijimin standard të popullacionit. Në praktikë sidoqoftë shpesh nuk e dijmë këtë vlerë. Prandaj, në vend të shpërndarjes normale, marrim shpërndarjen t që merr parasysh edhe gjasat që me anë të mostrës të gabojmë edhe matjen e devijimit standard ($\\sigma$).\n",
    "\n",
    "Shembull:\n",
    "\n",
    "Një kompani në ueb po planifikon ta përmirësoj dizajnin e faqës. Deri tani, vizitorët mesatarisht në faqe kanë qëndruar 8 minuta. Ata tani po shpresojnë që me faqën e re të rrisin kohëne  qëndrimit në faqe. Për të testuar, kanë marrë një mostër prej 30 presonave dhe u kanë shfaqur pamjen e re. Pas vendosjes së pamjes së re, vizitorët kanë qëndruar në faqe 9 minuta, me devijim standard prej 3 minutave. A e ka rritur pamja e re kohën e qëndrimit në faqe?\n",
    "\n",
    "Hipotezat tona janë:\n",
    "\n",
    "$H_{0}: \\mu <=8 $\n",
    "<br>\n",
    "$H_{A}: \\mu >8 $\n",
    "\n",
    "Poashtu, dijmë: \n",
    "\n",
    "$n = 30$\n",
    "<br>\n",
    "$\\bar{x} = 9$\n",
    "<br>\n",
    "$s = 2$\n",
    "\n",
    "Tani, statistikën testuese e ndërtojmë me anë të:\n",
    "\n",
    "$$t = \\frac{\\bar{x} - \\mu}{\\frac{s}{\\sqrt{n}}}$$\n",
    "\n",
    "Kjo ka shpërndarjen propabilistike t me shkallë lirie: $df = n-1 = 30-1 = 29$."
   ]
  },
  {
   "cell_type": "code",
   "execution_count": 9,
   "id": "australian-bristol",
   "metadata": {},
   "outputs": [
    {
     "name": "stdout",
     "output_type": "stream",
     "text": [
      "Vlera e t është: 1.8257418583505538\n",
      "Vlera p është:  0.03910\n"
     ]
    }
   ],
   "source": [
    "n = 30\n",
    "x_bar = 9\n",
    "s = 3\n",
    "\n",
    "t = (x_bar - 8)/(s/math.sqrt(n))\n",
    "\n",
    "print(f\"Vlera e t është: {t}\")\n",
    "\n",
    "# Gjejmë vlerën p\n",
    "p_value = 1 - st.t.cdf(t, n-1)\n",
    "print(f\"Vlera p është: {p_value: .5f}\")"
   ]
  },
  {
   "cell_type": "markdown",
   "id": "modified-alpha",
   "metadata": {},
   "source": [
    "Meqë vlera e p është më e vogël sesa niveli i signifikancës prej 0.05, mund të themi se mund ta refuzojmë hipotezën nulle."
   ]
  },
  {
   "cell_type": "markdown",
   "id": "skilled-dividend",
   "metadata": {},
   "source": [
    "# Dallimi në mesatarën e grupeve"
   ]
  },
  {
   "cell_type": "markdown",
   "id": "exposed-october",
   "metadata": {},
   "source": [
    "Shpesh na duhet të gjejmë dallimin në mesataret e dy grupeve. Në ato raste, statistika jonë testuese ndërtohet si në vijim:\n",
    "\n",
    "$$ t = \\frac{(\\bar{x}_{1}-\\bar{x}_{2}) - (\\mu_{1} - \\mu_{2})}{\\sqrt{\\frac{s_{1}^{2}}{n_{1}} + \\frac{s_{2}^{2}}{n_{2}}}} $$\n",
    "\n",
    "Ndërsa, statistika ka shpërndarje t me shkallë lirie si në vijim:\n",
    "\n",
    "$$ df = \\frac{(\\frac{s_{1}^{2}}{n_{1}} + \\frac{s_{2}^{2}}{n_{2}})^2}{[(\\frac{1}{n_{1}}-1)(\\frac{s_{1}^{2}}{n_{1}})^{2} + (\\frac{1}{n_{2}}-1)(\\frac{s_{2}^{2}}{n_{2}})^{2}]} $$"
   ]
  },
  {
   "cell_type": "code",
   "execution_count": 10,
   "id": "angry-donor",
   "metadata": {},
   "outputs": [],
   "source": [
    "# Kalkulimi:\n",
    "\n",
    "def kalkulo_t(x_bar1, x_bar2, mu1, mu2, s1, s2, n1, n2):\n",
    "    numeruesi = (x_bar1 - x_bar2) - (mu1-mu2)\n",
    "    emeruesi = math.sqrt((s1**2/n1)+(s2**2/n2))\n",
    "    return numeruesi/emeruesi\n",
    "\n",
    "def kalkulo_df(x_bar1, x_bar2, mu1, mu2, s1, s2, n1, n):\n",
    "    numeruesi = ((s1**2/n1) + (s2**2/n2))**2\n",
    "    emeruesi_1 = ((1/n1)-1) * ((s1**2/n1)**2)\n",
    "    emeruesi_2 = ((1/n2)-1) * ((s2**2/n2)**2)\n",
    "    return numeruesi/(emeruesi_1 + emeruesi_2)"
   ]
  },
  {
   "cell_type": "markdown",
   "id": "junior-teaching",
   "metadata": {},
   "source": [
    "Shembull:\n",
    "\n",
    "\n",
    "Kompania e farmaceutikës po prodhon barin A. Për ta testuar kanë marr një mostër prej 20 personave dhe u kanë dhënë këtë bar, ndërsa njëmostre tjetër prej 20 personave u kanë dhënë një placebo. Rezultatet kanë qenë si në vijim. Simptomat e sëmundjes kanë kaluar pas 5 orëve për pacientët me barin A, me devijim standard prej 1 ore. Ndërsa për pacientët me placebo, simptomat kanë kaluar pas 5.5 orëve me devijim standard 2 orë. Vërtetoni se bari funksionon më mirë sesa placebo."
   ]
  },
  {
   "cell_type": "markdown",
   "id": "radio-annex",
   "metadata": {},
   "source": [
    "# Implementimi në Python"
   ]
  },
  {
   "cell_type": "markdown",
   "id": "unique-smoke",
   "metadata": {},
   "source": [
    "Libraria scipy.stats ofron shumë teste statisikore që mund të kalkulohen lehtësisht.\n",
    "\n",
    "Për rastin me qumësht, ne do të kishim marr një array me rezultatet e mostres x dhe thjesht do të mund ta bënim testimin me anë të: __scipy.stats.ttest_1samp(x, popmean=8)__.\n",
    "\n",
    "Ndërsa për rastin e dytë: __scipy.stats.ttest_ind(x1, x2, equal_var = False, alternative=\"greater\")__."
   ]
  }
 ],
 "metadata": {
  "kernelspec": {
   "display_name": "Python 3",
   "language": "python",
   "name": "python3"
  },
  "language_info": {
   "codemirror_mode": {
    "name": "ipython",
    "version": 3
   },
   "file_extension": ".py",
   "mimetype": "text/x-python",
   "name": "python",
   "nbconvert_exporter": "python",
   "pygments_lexer": "ipython3",
   "version": "3.9.2"
  }
 },
 "nbformat": 4,
 "nbformat_minor": 5
}
